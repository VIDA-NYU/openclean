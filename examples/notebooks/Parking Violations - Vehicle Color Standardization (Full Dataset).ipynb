{
 "cells": [
  {
   "cell_type": "markdown",
   "metadata": {},
   "source": [
    "# NYC Parking Violations - Vehicle Color Standardization - Large Dataset Exmaple\n",
    "\n",
    "This notebook contains examples to demonstrate data cleaning funcitonality in [openclean](https://github.com/VIDA-NYU/openclean) using a large dataset.\n",
    "\n",
    "*Dataset*. The dataset that is used in this examples is the [NYC Parking Violations Issued - Fiscal Year 2014](https://data.cityofnewyork.us/City-Government/Parking-Violations-Issued-Fiscal-Year-2014/jt7v-77mi) dataset that contains violations issued during the respective fiscal year. The dataset is available for download via the [Socrata Open Data API](https://dev.socrata.com/). The 2014 parking violations dataset contains over 9 million rows and the data file is about 380 MB in size.\n",
    "\n",
    "In this example we use a subset of the dataset containing five columns and about 8 million rows. We look at the problem of standardizing the values in the *Vehicle Color* column."
   ]
  },
  {
   "cell_type": "markdown",
   "metadata": {},
   "source": [
    "## Download Dataset"
   ]
  },
  {
   "cell_type": "code",
   "execution_count": 1,
   "metadata": {},
   "outputs": [
    {
     "name": "stdout",
     "output_type": "stream",
     "text": [
      "Using 'Parking Violations Issued - Fiscal Year 2014' in file ./jt7v-77mi.tsv.gz of size 379.19 MB\n"
     ]
    }
   ],
   "source": [
    "# Download the full 'NYC Parking Violations Issued - Fiscal Year 2014' dataset.\n",
    "# Note that the downloaded full dataset file is about 380 MB in size! Use the\n",
    "# alternative data file with 10,000 rows that is included in the repository if\n",
    "# you do not want to download the full data file.\n",
    "\n",
    "import gzip\n",
    "import humanfriendly\n",
    "import os\n",
    "\n",
    "from openclean.data.source.socrata import Socrata\n",
    "\n",
    "dataset = Socrata().dataset('jt7v-77mi')\n",
    "\n",
    "# By default, this example uses a small sample of the full dataset that\n",
    "# is included in the 'data' subfolder within this repository.\n",
    "#datafile = './data/jt7v-77mi.tsv.gz'\n",
    "\n",
    "# Remove the comment for this line if you want to use the full dataset.\n",
    "datafile = './jt7v-77mi.tsv.gz'\n",
    "\n",
    "\n",
    "# Download file only if it does not exist already.\n",
    "if not os.path.isfile(datafile):\n",
    "    with gzip.open(datafile, 'wb') as f:\n",
    "        print('Downloading ...\\n')\n",
    "        dataset.write(f)\n",
    "\n",
    "\n",
    "fsize = humanfriendly.format_size(os.stat(datafile).st_size)\n",
    "print(\"Using '{}' in file {} of size {}\".format(dataset.name, datafile, fsize))"
   ]
  },
  {
   "cell_type": "markdown",
   "metadata": {},
   "source": [
    "## Load Dataset\n",
    "\n",
    "Load initial snapshot of the dataset into a persistent database manager. The snapshot for this example contains a subset of the columns from the original dataset."
   ]
  },
  {
   "cell_type": "code",
   "execution_count": 2,
   "metadata": {},
   "outputs": [],
   "source": [
    "# Due to the size of the full dataset file, we make use of openclean's\n",
    "# stream operator to avoid having to load the dataset into main-memory.\n",
    "\n",
    "from openclean.function.eval.base import Col\n",
    "from openclean.function.eval.logic import And\n",
    "from openclean.function.eval.null import IsNotEmpty\n",
    "from openclean.pipeline import stream\n",
    "\n",
    "data = stream(datafile)\\\n",
    "    .select(['Plate ID', 'Registration State', 'Plate Type', 'Violation Code', 'Vehicle Color'])\\\n",
    "    .rename('Registration State', 'State')\\\n",
    "    .where(And(IsNotEmpty('Vehicle Color'), Col('State') != '99', Col('Plate ID') != '999'))\\\n",
    "    .update('Vehicle Color', str.upper)\n"
   ]
  },
  {
   "cell_type": "code",
   "execution_count": 3,
   "metadata": {},
   "outputs": [
    {
     "name": "stdout",
     "output_type": "stream",
     "text": [
      "Scan time 111.4550 sec. for 8993835 rows.\n"
     ]
    }
   ],
   "source": [
    "# Count number of rows. This will also give us an idea for how\n",
    "# long it takes to scan the input document.\n",
    "\n",
    "import time\n",
    "\n",
    "start_scan = time.perf_counter()\n",
    "\n",
    "rows = data.count()\n",
    "\n",
    "end_scan = time.perf_counter()\n",
    "\n",
    "print('Scan time {:0.4f} sec. for {} rows.'.format((end_scan - start_scan), rows))"
   ]
  },
  {
   "cell_type": "code",
   "execution_count": 4,
   "metadata": {},
   "outputs": [],
   "source": [
    "# Create a database object that materializes the dataset and\n",
    "# all provenance information in a folder on the local file system.\n",
    "\n",
    "from openclean.engine.base import DB\n",
    "\n",
    "db = DB(basedir='.openclean', create=True)"
   ]
  },
  {
   "cell_type": "code",
   "execution_count": 5,
   "metadata": {},
   "outputs": [
    {
     "name": "stdout",
     "output_type": "stream",
     "text": [
      "Load time 448.3509 sec.\n"
     ]
    }
   ],
   "source": [
    "# Load snapshot into database.\n",
    "\n",
    "import time\n",
    "\n",
    "start_load = time.perf_counter()\n",
    "\n",
    "db.load_dataset(source=data, name='vehicle_data')\n",
    "\n",
    "end_load = time.perf_counter()\n",
    "\n",
    "print('Load time {:0.4f} sec.'.format(end_load - start_load))"
   ]
  },
  {
   "cell_type": "code",
   "execution_count": 6,
   "metadata": {
    "scrolled": true
   },
   "outputs": [
    {
     "data": {
      "text/html": [
       "<div>\n",
       "<style scoped>\n",
       "    .dataframe tbody tr th:only-of-type {\n",
       "        vertical-align: middle;\n",
       "    }\n",
       "\n",
       "    .dataframe tbody tr th {\n",
       "        vertical-align: top;\n",
       "    }\n",
       "\n",
       "    .dataframe thead th {\n",
       "        text-align: right;\n",
       "    }\n",
       "</style>\n",
       "<table border=\"1\" class=\"dataframe\">\n",
       "  <thead>\n",
       "    <tr style=\"text-align: right;\">\n",
       "      <th></th>\n",
       "      <th>Plate ID</th>\n",
       "      <th>State</th>\n",
       "      <th>Plate Type</th>\n",
       "      <th>Violation Code</th>\n",
       "      <th>Vehicle Color</th>\n",
       "    </tr>\n",
       "  </thead>\n",
       "  <tbody>\n",
       "    <tr>\n",
       "      <th>0</th>\n",
       "      <td>FCJ5493</td>\n",
       "      <td>NY</td>\n",
       "      <td>PAS</td>\n",
       "      <td>20</td>\n",
       "      <td>BLACK</td>\n",
       "    </tr>\n",
       "    <tr>\n",
       "      <th>1</th>\n",
       "      <td>63540MC</td>\n",
       "      <td>NY</td>\n",
       "      <td>COM</td>\n",
       "      <td>46</td>\n",
       "      <td>BRN</td>\n",
       "    </tr>\n",
       "    <tr>\n",
       "      <th>2</th>\n",
       "      <td>GCY4187</td>\n",
       "      <td>NY</td>\n",
       "      <td>SRF</td>\n",
       "      <td>21</td>\n",
       "      <td>BLUE</td>\n",
       "    </tr>\n",
       "    <tr>\n",
       "      <th>3</th>\n",
       "      <td>95V6675</td>\n",
       "      <td>TX</td>\n",
       "      <td>PAS</td>\n",
       "      <td>21</td>\n",
       "      <td>SILVR</td>\n",
       "    </tr>\n",
       "    <tr>\n",
       "      <th>4</th>\n",
       "      <td>FYM5117</td>\n",
       "      <td>NY</td>\n",
       "      <td>SRF</td>\n",
       "      <td>21</td>\n",
       "      <td>WHITE</td>\n",
       "    </tr>\n",
       "    <tr>\n",
       "      <th>5</th>\n",
       "      <td>GFM1421</td>\n",
       "      <td>NY</td>\n",
       "      <td>PAS</td>\n",
       "      <td>40</td>\n",
       "      <td>BLK</td>\n",
       "    </tr>\n",
       "    <tr>\n",
       "      <th>6</th>\n",
       "      <td>18972BB</td>\n",
       "      <td>NY</td>\n",
       "      <td>999</td>\n",
       "      <td>14</td>\n",
       "      <td>YELLO</td>\n",
       "    </tr>\n",
       "    <tr>\n",
       "      <th>7</th>\n",
       "      <td>WNJ4730</td>\n",
       "      <td>VA</td>\n",
       "      <td>PAS</td>\n",
       "      <td>14</td>\n",
       "      <td>BLK</td>\n",
       "    </tr>\n",
       "    <tr>\n",
       "      <th>8</th>\n",
       "      <td>68091JZ</td>\n",
       "      <td>NY</td>\n",
       "      <td>COM</td>\n",
       "      <td>46</td>\n",
       "      <td>WH</td>\n",
       "    </tr>\n",
       "    <tr>\n",
       "      <th>9</th>\n",
       "      <td>EWV4127</td>\n",
       "      <td>NY</td>\n",
       "      <td>PAS</td>\n",
       "      <td>21</td>\n",
       "      <td>GREY</td>\n",
       "    </tr>\n",
       "  </tbody>\n",
       "</table>\n",
       "</div>"
      ],
      "text/plain": [
       "  Plate ID State Plate Type Violation Code Vehicle Color\n",
       "0  FCJ5493    NY        PAS             20         BLACK\n",
       "1  63540MC    NY        COM             46           BRN\n",
       "2  GCY4187    NY        SRF             21          BLUE\n",
       "3  95V6675    TX        PAS             21         SILVR\n",
       "4  FYM5117    NY        SRF             21         WHITE\n",
       "5  GFM1421    NY        PAS             40           BLK\n",
       "6  18972BB    NY        999             14         YELLO\n",
       "7  WNJ4730    VA        PAS             14           BLK\n",
       "8  68091JZ    NY        COM             46            WH\n",
       "9  EWV4127    NY        PAS             21          GREY"
      ]
     },
     "execution_count": 6,
     "metadata": {},
     "output_type": "execute_result"
    }
   ],
   "source": [
    "# Print the first ten rows of the dataset to get a first\n",
    "# idea of the content.\n",
    "\n",
    "db.stream('vehicle_data').head()"
   ]
  },
  {
   "cell_type": "code",
   "execution_count": 7,
   "metadata": {},
   "outputs": [
    {
     "name": "stdout",
     "output_type": "stream",
     "text": [
      "Scan time 256.1054 sec. for 8993835 rows.\n"
     ]
    }
   ],
   "source": [
    "# Count number of rows in the archive. This will give us an idea for\n",
    "# how long it takes to scan the archive.\n",
    "\n",
    "import time\n",
    "\n",
    "start_scan = time.perf_counter()\n",
    "\n",
    "rows = db.stream('vehicle_data').count()\n",
    "\n",
    "end_scan = time.perf_counter()\n",
    "\n",
    "print('Scan time {:0.4f} sec. for {} rows.'.format((end_scan - start_scan), rows))"
   ]
  },
  {
   "cell_type": "markdown",
   "metadata": {},
   "source": [
    "## Vehicle Color - Using Functional Dependencies to assist with data standardization\n",
    "\n",
    "\n",
    "We make use of the fact that 'Plate ID' and 'Registration State' uniquely identify a vehicle. For each vehicle we make the assumption that the color doesn't change within the one year of data that we are looking at here. Thus, the functional dependency 'Plate ID', 'Registration State' -> 'Vehicle Color'. should hold. Violations of that dependency point to different representations of the same color value."
   ]
  },
  {
   "cell_type": "code",
   "execution_count": 1,
   "metadata": {},
   "outputs": [],
   "source": [
    "# Open instance for existing database object that maintains the\n",
    "# dataset and all provenance information.\n",
    "\n",
    "from openclean.engine.base import DB\n",
    "\n",
    "db = DB(basedir='.openclean', create=False)"
   ]
  },
  {
   "cell_type": "code",
   "execution_count": 2,
   "metadata": {},
   "outputs": [],
   "source": [
    "# Create data stream for first dataset snapshot that was commited\n",
    "# to the database.\n",
    "\n",
    "ds = db.stream(name='vehicle_data', version=0)"
   ]
  },
  {
   "cell_type": "code",
   "execution_count": 3,
   "metadata": {},
   "outputs": [],
   "source": [
    "# Get summary of conflicting values in the 'Vehicle Color' attribute.\n",
    "# The Plate ID and Registration State should identify a vehicle uniquely. We use\n",
    "# this key to find conflicts in the 'Vehicle Color' column.\n",
    "\n",
    "from openclean.operator.map.violations import fd_violations\n",
    "\n",
    "df = ds\\\n",
    "    .select(['Plate ID', 'State', 'Vehicle Color'])\\\n",
    "    .to_df()\n",
    "\n",
    "groups = fd_violations(df, lhs=['Plate ID', 'State'], rhs='Vehicle Color')\n",
    "conflicts = groups.summarize_conflicts('Vehicle Color')"
   ]
  },
  {
   "cell_type": "code",
   "execution_count": 4,
   "metadata": {},
   "outputs": [
    {
     "data": {
      "text/plain": [
       "[('GY', 170831),\n",
       " ('BLACK', 157776),\n",
       " ('GREY', 148847),\n",
       " ('WHITE', 135127),\n",
       " ('BK', 134722),\n",
       " ('WH', 122401),\n",
       " ('SILVE', 108223),\n",
       " ('BLUE', 79173),\n",
       " ('BL', 64820),\n",
       " ('OTHER', 52313),\n",
       " ('RED', 46660),\n",
       " ('BLK', 41022),\n",
       " ('GRAY', 38376),\n",
       " ('RD', 38226),\n",
       " ('TAN', 35244),\n",
       " ('GREEN', 34815),\n",
       " ('GR', 32131),\n",
       " ('GOLD', 24429),\n",
       " ('TN', 21603),\n",
       " ('WHT', 19089),\n",
       " ('GRY', 18118),\n",
       " ('BROWN', 15000),\n",
       " ('YELLO', 11518),\n",
       " ('BR', 10562),\n",
       " ('YW', 9421),\n",
       " ('GL', 8567),\n",
       " ('WT', 7496),\n",
       " ('MR', 5054),\n",
       " ('BLU', 4017),\n",
       " ('GRN', 3974),\n",
       " ('PURPL', 3932),\n",
       " ('SIL', 3596),\n",
       " ('SL', 3235),\n",
       " ('SILVR', 2822),\n",
       " ('ORANG', 2577),\n",
       " ('WHI', 2490),\n",
       " ('GN', 2441),\n",
       " ('LTG', 2344),\n",
       " ('SILV', 1972),\n",
       " ('BRN', 1958),\n",
       " ('LT/', 1834),\n",
       " ('DK/', 1393),\n",
       " ('OR', 1251),\n",
       " ('LTGY', 1124),\n",
       " ('BN', 1108),\n",
       " ('MAROO', 1100),\n",
       " ('DKG', 1097),\n",
       " ('BEIGE', 1091),\n",
       " ('LAVEN', 1090),\n",
       " ('W', 991)]"
      ]
     },
     "execution_count": 4,
     "metadata": {},
     "output_type": "execute_result"
    }
   ],
   "source": [
    "# Print summary for conflicting values.\n",
    "\n",
    "conflicts.most_common(50)"
   ]
  },
  {
   "cell_type": "code",
   "execution_count": 5,
   "metadata": {},
   "outputs": [
    {
     "data": {
      "text/plain": [
       "ValueConflicts(count=64820, values=Counter({'BLUE': 44044, 'BLACK': 10480, 'BK': 4878, 'GREY': 4673, 'GY': 4020, 'OTHER': 3480, 'BLK': 2788, 'GREEN': 2324, 'BLU': 1813, 'SILVE': 1736, 'GRAY': 1357, 'WHITE': 1330, 'WH': 1296, 'GR': 1244, 'BROWN': 554, 'GRY': 540, 'RD': 495, 'RED': 471, 'BR': 456, 'TAN': 316, 'TN': 281, 'PURPL': 250, 'GRN': 228, 'GOLD': 221, 'BRN': 180, 'WHT': 170, 'GN': 149, 'BN': 139, 'GL': 103, 'BRWN': 93, 'MR': 86, 'BRW': 80, 'DKB': 73, 'BLGY': 65, 'WT': 59, 'ORANG': 54, 'DK/': 53, 'BRO': 50, 'B': 50, 'YELLO': 50, 'SILVR': 49, 'PR': 47, 'BWN': 45, 'SL': 44, 'SIL': 41, 'SILV': 39, 'BW': 39, 'DKBL': 37, 'YW': 37, 'LAVEN': 34, 'LTB': 33, 'G': 31, 'BLBL': 30, 'LT/': 30, 'LTG': 29, 'BROW': 28, 'BLGR': 27, 'OR': 27, 'MULTI': 24, 'BLE': 22, 'BLRD': 18, 'NAVY': 18, 'BLG': 17, 'TEAL': 17, 'BLCK': 15, 'MAROO': 14, 'BURG': 13, 'BL/': 13, 'BLTN': 13, 'DKG': 12, 'BL-GY': 12, 'BM': 12, 'BEIGE': 11, 'BI': 11, 'LTGY': 11, 'BRONW': 10, 'LTBL': 10, 'DKBLU': 10, 'W': 10, 'BLV': 10, 'SLVR': 9, 'WHI': 9, 'BIK': 9, 'BU': 8, 'BLIE': 8, 'SLV': 8, 'LT BL': 7, 'BL-GR': 7, 'B LUE': 7, 'LIGHT': 7, 'WHBL': 7, 'LTBLU': 7, 'BE': 7, 'WH/BL': 7, 'BL/WH': 7, 'BRM': 7, 'WHIT': 6, 'BL-RD': 6, 'DK BL': 6, 'BL/GY': 6, 'DARK': 6, 'R': 5, 'NAVYB': 5, 'YEL': 5, 'BLW': 5, 'DKR': 5, 'MC': 5, 'BKGY': 5, 'BX': 5, 'PURP': 5, 'BMW': 5, 'GREN': 5, 'WH/': 5, 'PUR': 4, 'BL WH': 4, 'BRON': 4, 'BLBK': 4, 'BURGU': 4, 'BLGL': 4, 'BUE': 4, 'GYGR': 4, 'DBLUE': 4, 'BURGA': 4, 'BIU': 4, 'DBL': 4, 'NOC': 4, 'NOCL': 4, 'WHB': 4, 'WH BL': 4, 'BC': 4, 'BL GY': 4, 'DARKB': 4, 'YELL': 4, 'BLA': 4, 'DKGY': 4, 'BKG': 3, 'BY': 3, 'BKL': 3, 'MAR': 3, 'LTGR': 3, 'SIV': 3, 'SLVE': 3, 'BLAC': 3, 'BEN': 3, 'BUS': 3, 'DK-BL': 3, 'BLVD': 3, 'BWR': 3, 'GRE': 3, 'D BLU': 3, 'BRWON': 3, 'UNKNO': 3, 'BUR': 3, 'BIE': 3, 'BLUE/': 3, 'GLD': 3, 'BLUR': 3, 'BIUE': 3, 'VLUE': 3, 'M': 3, 'LIME': 3, 'DKP': 2, 'BLEU': 2, 'WHIET': 2, 'OTH': 2, 'BLAKC': 2, 'VAN': 2, 'BLUEQ': 2, 'BRK': 2, 'BKBL': 2, 'BUG': 2, 'GRG': 2, 'BO': 2, 'NLUE': 2, 'BLWH': 2, 'BLUE`': 2, 'BLUWH': 2, 'GY/BL': 2, 'WTE': 2, 'BWE': 2, 'VROWN': 2, 'BL-TN': 2, 'BLYE': 2, 'UNK': 2, 'SLR': 2, 'NR': 2, 'S': 2, 'MULT': 2, 'GYBL': 2, 'BK/WH': 2, 'BL-MR': 2, 'MULIT': 2, 'BOWN': 2, 'BLACJ': 2, 'DRK': 2, 'WH-BL': 2, 'GR/': 2, 'DKGR': 2, 'BULE': 2, 'SLIVE': 2, 'BL-BL': 2, 'B;': 2, 'D.BLU': 2, 'GYB': 2, 'BLN': 2, 'WITE': 2, 'BKE': 2, 'SLV/B': 2, 'DR': 2, 'BL/GR': 2, 'B/W': 2, 'SIVR': 2, 'DRKBL': 2, 'SV': 2, 'DGR': 2, 'WHTE': 2, 'BLAK': 2, 'B L': 2, 'BROWM': 1, 'AGUA': 1, 'MARRO': 1, 'GY.': 1, 'SI': 1, 'LBL': 1, 'DKBK': 1, 'DKBWE': 1, 'GARY': 1, 'VOLKS': 1, 'BLU/B': 1, 'BLACI': 1, 'BNR': 1, 'PON': 1, 'BON': 1, 'TNB': 1, 'FREIG': 1, 'LTPR': 1, 'BK/RD': 1, 'BH': 1, 'HYFON': 1, 'NV BL': 1, 'BVR': 1, 'BLACA': 1, 'LGR': 1, 'WHTIE': 1, 'WTH': 1, 'BK BL': 1, 'OICY': 1, 'BDU': 1, 'BLEE': 1, 'METBL': 1, 'GERY': 1, 'MS': 1, 'SIIVE': 1, 'BCK': 1, 'LGBLU': 1, 'DRBLU': 1, 'BROAN': 1, 'BLUEB': 1, 'MCY': 1, 'E': 1, 'BXC': 1, 'NLK': 1, 'BKGRE': 1, 'DKRD': 1, 'CTR': 1, 'BWM': 1, 'POL': 1, 'RD/': 1, 'BLOCK': 1, 'SOVER': 1, 'PETER': 1, 'MK': 1, 'RD-GR': 1, 'M/C': 1, 'MUILT': 1, 'BLU/W': 1, 'BROOM': 1, 'BLUGR': 1, 'OWE': 1, 'YELLW': 1, 'NO': 1, 'SUBN': 1, 'SIR': 1, 'GME': 1, 'BL WT': 1, 'YLL': 1, 'GREY/': 1, 'BLIUE': 1, 'LEMON': 1, 'BLUEG': 1, 'BL SI': 1, 'BLWHI': 1, 'W BL': 1, 'BLUWT': 1, 'BK WH': 1, 'FORD': 1, 'NLCR': 1, 'BLUEY': 1, 'BKGR': 1, 'BL/WT': 1, 'GRBL': 1, 'WTBLU': 1, 'BLUER': 1, 'M/COL': 1, 'GNBL': 1, 'BLUEW': 1, 'BWWH': 1, 'TEAR': 1, 'BRTOW': 1, 'BROWB': 1, 'B ROW': 1, 'RO': 1, 'LBLUE': 1, 'SWL': 1, 'COR': 1, 'B;IE': 1, 'YLW': 1, 'NOCLR': 1, 'BRONZ': 1, 'DK/BL': 1, 'GLUE': 1, 'BIWH': 1, 'GREYU': 1, 'GOL/S': 1, 'BRX': 1, 'VVH': 1, 'OR/BK': 1, 'INTER': 1, 'MA': 1, 'CHOKE': 1, 'GRAY/': 1, 'BURSU': 1, 'GRW': 1, 'IN': 1, 'BKJ': 1, 'MUL': 1, 'BRWB': 1, 'BRI': 1, 'LT': 1, 'GREYS': 1, 'MARON': 1, 'BRT': 1, 'WHGY': 1, 'GH': 1, 'LGR-L': 1, 'B,LUE': 1, 'NCLR': 1, 'WHITT': 1, 'BRIGE': 1, 'GLEN': 1, 'NAV': 1, 'SLVBL': 1, 'D GRA': 1, 'BRQ': 1, 'BLR': 1, 'WHUTE': 1, 'BLUUE': 1, 'GRAYU': 1, 'CHRYS': 1, 'MACK': 1, 'WH/BK': 1, 'BKWHT': 1, 'NISS': 1, 'LN': 1, 'SIILV': 1, 'BLBR': 1, 'DK GR': 1, 'GYGY': 1, 'GLG': 1, 'GU': 1, 'WHE': 1, 'PD': 1, 'BUNC': 1, 'BK.': 1, 'ORN': 1, 'FRE': 1, 'BRGUY': 1, 'ISIU.': 1, 'MR/': 1, 'B/T': 1, 'PL': 1, 'BLMR': 1, 'GD': 1, 'GEEN': 1, 'GEY': 1, 'W/BL': 1, 'LT. B': 1, 'CUIV,': 1, ',XU': 1, 'ME/BE': 1, 'BRBL': 1, 'BL-BR': 1, 'L BLU': 1, 'BRNW': 1, 'SLE': 1, 'TURGU': 1, 'YL': 1, 'BLID': 1, 'BKQ': 1, 'BRU': 1, 'WBLUE': 1, 'SLATE': 1, 'BLUSI': 1, 'S/BLU': 1, 'MILTI': 1, 'BLKA': 1, 'BLCKR': 1, 'BLKRE': 1, 'BKRD': 1, 'PLUM': 1, 'NY': 1, 'BIUE.': 1, 'BUGY': 1, 'BK/YW': 1, 'BK/': 1, 'RUE': 1, 'WHBLU': 1, 'WHT B': 1, 'GV': 1, 'B;U': 1, 'LT.BL': 1, 'NLACK': 1, 'BLK/W': 1, 'DK': 1, 'GEN': 1, 'GW': 1, 'AQUA': 1, 'NY/BL': 1, 'GYBLU': 1, 'BLUG': 1, 'RDWH': 1, 'PINK': 1, 'UL': 1, 'BCT': 1, 'LT/BL': 1, 'BLKW': 1, 'BKW': 1, 'IBK': 1, '/MMC': 1, 'R/D': 1, 'BWG': 1, 'BIACK': 1, 'BRL': 1, 'BL-PR': 1, 'TER': 1, 'GYT': 1, 'GY-TN': 1, 'GRIN': 1, 'DARKG': 1, 'BLSL': 1, 'BIEGE': 1, 'NMW': 1, 'LB': 1, 'W/B': 1, 'INFI': 1, 'BLUE.': 1, 'BMR': 1, 'BLKJ': 1, 'ITN.V': 1, 'HYUND': 1, 'BLUW': 1, 'BL-WH': 1, 'BTWN': 1, 'ISICR': 1, 'BK-GY': 1, 'BKB': 1, 'BK-BL': 1, 'BLUI': 1, 'SIK': 1, 'MITSU': 1, 'PRBL': 1, 'GYTN': 1, 'BLKQ': 1, 'SILE': 1, 'DK/BU': 1, 'GRA': 1, 'GROWN': 1, 'WI': 1, 'DKGRE': 1}))"
      ]
     },
     "execution_count": 5,
     "metadata": {},
     "output_type": "execute_result"
    }
   ],
   "source": [
    "# Print list of values that occur in a conflict with 'BL'.\n",
    "\n",
    "conflicts['BL']"
   ]
  },
  {
   "cell_type": "markdown",
   "metadata": {},
   "source": [
    "### First Iteration"
   ]
  },
  {
   "cell_type": "code",
   "execution_count": 6,
   "metadata": {},
   "outputs": [],
   "source": [
    "# Define initial mapping for color standardization.\n",
    "\n",
    "mapping = {\n",
    "    'GRY': 'GRAY',\n",
    "    'GY': 'GRAY',\n",
    "    'GY/': 'GRAY',\n",
    "    'GYGY': 'GRAY',\n",
    "    'GREY': 'GRAY',\n",
    "    'SILVE': 'SILVER',\n",
    "    'SILV': 'SILVER',\n",
    "    'SILVR': 'SILVER',\n",
    "    'SLV': 'SILVER',\n",
    "    'W': 'WHITE',\n",
    "    'WH': 'WHITE',\n",
    "    'WH/': 'WHITE',\n",
    "    'WHT': 'WHITE',\n",
    "    'WT': 'WHITE',\n",
    "    'WHI': 'WHITE',\n",
    "    'BK': 'BLACK',\n",
    "    'BLK': 'BLACK',\n",
    "    'RD': 'RED',\n",
    "    'RD/': 'RED',\n",
    "    'TN': 'TAN',\n",
    "    'GL': 'GOLD',\n",
    "    'GD': 'GOLD',\n",
    "    'GLD': 'GOLD',\n",
    "    'GR': 'GREEN',\n",
    "    'GRN': 'GREEN',\n",
    "    'GN': 'GREEN',\n",
    "    'BLU': 'BLUE',\n",
    "    'YW': 'YELLOW',\n",
    "    'YL': 'YELLOW',\n",
    "    'YELLO': 'YELLOW',\n",
    "    'YELL': 'YELLOW',\n",
    "    'YEL': 'YELLOW',\n",
    "    'BN': 'BROWN',\n",
    "    'BR': 'BROWN',\n",
    "    'BRN': 'BROWN',\n",
    "    'BRWN': 'BROWN',\n",
    "    'BRW': 'BROWN',\n",
    "    'BRO': 'BROWN',\n",
    "    'BRON': 'BROWN',\n",
    "    'BROW': 'BROWN',\n",
    "    'ORANG': 'ORANGE',\n",
    "    'OR': 'ORANGE',\n",
    "    'MAROO': 'MAROON',\n",
    "    'MR': 'MAROON',\n",
    "    'MARRO': 'MAROON',\n",
    "    'MA': 'MAROON',\n",
    "    'MAR': 'MAROON',\n",
    "    'MARO': 'MAROON',\n",
    "    'MARON': 'MAROON',\n",
    "    'MAIOO': 'MAROON',\n",
    "    'MARN': 'MAROON',\n",
    "    'PURPL': 'PURPLE',\n",
    "    'LAVEN': 'LAVENDER'\n",
    "}"
   ]
  },
  {
   "cell_type": "code",
   "execution_count": 7,
   "metadata": {},
   "outputs": [
    {
     "name": "stdout",
     "output_type": "stream",
     "text": [
      "Update time 895.8141 sec.\n"
     ]
    }
   ],
   "source": [
    "# Apply update operation on current dataset snapshot in a first\n",
    "# iteration for standardizing color values.\n",
    "\n",
    "import time\n",
    "\n",
    "from openclean.function.value.mapping import Standardize\n",
    "from openclean.operator.transform.update import Update\n",
    "\n",
    "start_update = time.perf_counter()\n",
    "\n",
    "db.apply(name='vehicle_data', operations=Update('Vehicle Color', Standardize(mapping)))\n",
    "\n",
    "end_update = time.perf_counter()\n",
    "\n",
    "print('Update time {:0.4f} sec.'.format(end_update - start_update))"
   ]
  },
  {
   "cell_type": "code",
   "execution_count": 8,
   "metadata": {},
   "outputs": [
    {
     "data": {
      "text/html": [
       "<div>\n",
       "<style scoped>\n",
       "    .dataframe tbody tr th:only-of-type {\n",
       "        vertical-align: middle;\n",
       "    }\n",
       "\n",
       "    .dataframe tbody tr th {\n",
       "        vertical-align: top;\n",
       "    }\n",
       "\n",
       "    .dataframe thead th {\n",
       "        text-align: right;\n",
       "    }\n",
       "</style>\n",
       "<table border=\"1\" class=\"dataframe\">\n",
       "  <thead>\n",
       "    <tr style=\"text-align: right;\">\n",
       "      <th></th>\n",
       "      <th>Plate ID</th>\n",
       "      <th>State</th>\n",
       "      <th>Plate Type</th>\n",
       "      <th>Violation Code</th>\n",
       "      <th>Vehicle Color</th>\n",
       "    </tr>\n",
       "  </thead>\n",
       "  <tbody>\n",
       "    <tr>\n",
       "      <th>0</th>\n",
       "      <td>FCJ5493</td>\n",
       "      <td>NY</td>\n",
       "      <td>PAS</td>\n",
       "      <td>20</td>\n",
       "      <td>BLACK</td>\n",
       "    </tr>\n",
       "    <tr>\n",
       "      <th>1</th>\n",
       "      <td>63540MC</td>\n",
       "      <td>NY</td>\n",
       "      <td>COM</td>\n",
       "      <td>46</td>\n",
       "      <td>BROWN</td>\n",
       "    </tr>\n",
       "    <tr>\n",
       "      <th>2</th>\n",
       "      <td>GCY4187</td>\n",
       "      <td>NY</td>\n",
       "      <td>SRF</td>\n",
       "      <td>21</td>\n",
       "      <td>BLUE</td>\n",
       "    </tr>\n",
       "    <tr>\n",
       "      <th>3</th>\n",
       "      <td>95V6675</td>\n",
       "      <td>TX</td>\n",
       "      <td>PAS</td>\n",
       "      <td>21</td>\n",
       "      <td>SILVER</td>\n",
       "    </tr>\n",
       "    <tr>\n",
       "      <th>4</th>\n",
       "      <td>FYM5117</td>\n",
       "      <td>NY</td>\n",
       "      <td>SRF</td>\n",
       "      <td>21</td>\n",
       "      <td>WHITE</td>\n",
       "    </tr>\n",
       "    <tr>\n",
       "      <th>5</th>\n",
       "      <td>GFM1421</td>\n",
       "      <td>NY</td>\n",
       "      <td>PAS</td>\n",
       "      <td>40</td>\n",
       "      <td>BLACK</td>\n",
       "    </tr>\n",
       "    <tr>\n",
       "      <th>6</th>\n",
       "      <td>18972BB</td>\n",
       "      <td>NY</td>\n",
       "      <td>999</td>\n",
       "      <td>14</td>\n",
       "      <td>YELLOW</td>\n",
       "    </tr>\n",
       "    <tr>\n",
       "      <th>7</th>\n",
       "      <td>WNJ4730</td>\n",
       "      <td>VA</td>\n",
       "      <td>PAS</td>\n",
       "      <td>14</td>\n",
       "      <td>BLACK</td>\n",
       "    </tr>\n",
       "    <tr>\n",
       "      <th>8</th>\n",
       "      <td>68091JZ</td>\n",
       "      <td>NY</td>\n",
       "      <td>COM</td>\n",
       "      <td>46</td>\n",
       "      <td>WHITE</td>\n",
       "    </tr>\n",
       "    <tr>\n",
       "      <th>9</th>\n",
       "      <td>EWV4127</td>\n",
       "      <td>NY</td>\n",
       "      <td>PAS</td>\n",
       "      <td>21</td>\n",
       "      <td>GRAY</td>\n",
       "    </tr>\n",
       "  </tbody>\n",
       "</table>\n",
       "</div>"
      ],
      "text/plain": [
       "  Plate ID State Plate Type Violation Code Vehicle Color\n",
       "0  FCJ5493    NY        PAS             20         BLACK\n",
       "1  63540MC    NY        COM             46         BROWN\n",
       "2  GCY4187    NY        SRF             21          BLUE\n",
       "3  95V6675    TX        PAS             21        SILVER\n",
       "4  FYM5117    NY        SRF             21         WHITE\n",
       "5  GFM1421    NY        PAS             40         BLACK\n",
       "6  18972BB    NY        999             14        YELLOW\n",
       "7  WNJ4730    VA        PAS             14         BLACK\n",
       "8  68091JZ    NY        COM             46         WHITE\n",
       "9  EWV4127    NY        PAS             21          GRAY"
      ]
     },
     "execution_count": 8,
     "metadata": {},
     "output_type": "execute_result"
    }
   ],
   "source": [
    "# Print first ten rows of the modified dataset snapshot.\n",
    "\n",
    "db.stream('vehicle_data').head()"
   ]
  },
  {
   "cell_type": "code",
   "execution_count": 9,
   "metadata": {},
   "outputs": [],
   "source": [
    "# Get count for distinct colors in the dataset.\n",
    "\n",
    "colors = db.stream('vehicle_data').distinct('Vehicle Color')"
   ]
  },
  {
   "cell_type": "code",
   "execution_count": 10,
   "metadata": {},
   "outputs": [
    {
     "data": {
      "text/plain": [
       "2769"
      ]
     },
     "execution_count": 10,
     "metadata": {},
     "output_type": "execute_result"
    }
   ],
   "source": [
    "len(colors)"
   ]
  },
  {
   "cell_type": "code",
   "execution_count": 11,
   "metadata": {},
   "outputs": [
    {
     "data": {
      "text/plain": [
       "[('WHITE', 2592600),\n",
       " ('GRAY', 1718237),\n",
       " ('BLACK', 1669913),\n",
       " ('RED', 536941),\n",
       " ('BL', 441801),\n",
       " ('GREEN', 362989),\n",
       " ('BROWN', 360793),\n",
       " ('SILVER', 320403),\n",
       " ('BLUE', 305936),\n",
       " ('TAN', 202539),\n",
       " ('YELLOW', 115890),\n",
       " ('GOLD', 106078),\n",
       " ('OTHER', 91292),\n",
       " ('MAROON', 33238),\n",
       " ('ORANGE', 24231),\n",
       " ('LTG', 13094),\n",
       " ('PURPLE', 7691),\n",
       " ('LT/', 7191),\n",
       " ('SL', 6985),\n",
       " ('DK/', 6170),\n",
       " ('SIL', 6070),\n",
       " ('DKG', 5953),\n",
       " ('PR', 4769),\n",
       " ('DKB', 3251),\n",
       " ('LTGY', 2217),\n",
       " ('BLG', 1599),\n",
       " ('BEIGE', 1585),\n",
       " ('LAVENDER', 1548),\n",
       " ('LTB', 1501),\n",
       " ('DKR', 1391),\n",
       " ('NOC', 1250),\n",
       " ('BURG', 1128),\n",
       " ('DKGY', 919),\n",
       " ('WHB', 832),\n",
       " ('WHBL', 745),\n",
       " ('SLVR', 739),\n",
       " ('BL/', 698),\n",
       " ('WHG', 691),\n",
       " ('R', 595),\n",
       " ('BG', 588),\n",
       " ('DKBL', 574),\n",
       " ('LTT', 540),\n",
       " ('BKGY', 539),\n",
       " ('G', 507),\n",
       " ('BWN', 506),\n",
       " ('BKG', 496),\n",
       " ('BURGU', 489),\n",
       " ('BLW', 444),\n",
       " ('WHO', 390),\n",
       " ('WHIT', 379)]"
      ]
     },
     "execution_count": 11,
     "metadata": {},
     "output_type": "execute_result"
    }
   ],
   "source": [
    "colors.most_common(50)"
   ]
  },
  {
   "cell_type": "markdown",
   "metadata": {},
   "source": [
    "### Second Iteration"
   ]
  },
  {
   "cell_type": "code",
   "execution_count": 1,
   "metadata": {},
   "outputs": [],
   "source": [
    "# Open instance for existing database object that maintains the\n",
    "# dataset and all provenance information.\n",
    "\n",
    "from openclean.engine.base import DB\n",
    "\n",
    "db = DB(basedir='.openclean', create=False)"
   ]
  },
  {
   "cell_type": "code",
   "execution_count": 2,
   "metadata": {},
   "outputs": [],
   "source": [
    "# Get remaining conflicts.\n",
    "\n",
    "from openclean.operator.map.violations import fd_violations\n",
    "\n",
    "df = db.stream('vehicle_data')\\\n",
    "    .select(['Plate ID', 'State', 'Vehicle Color'])\\\n",
    "    .to_df()\n",
    "\n",
    "groups = fd_violations(df, lhs=['Plate ID', 'State'], rhs='Vehicle Color')"
   ]
  },
  {
   "cell_type": "code",
   "execution_count": 3,
   "metadata": {},
   "outputs": [
    {
     "data": {
      "text/plain": [
       "369163"
      ]
     },
     "execution_count": 3,
     "metadata": {},
     "output_type": "execute_result"
    }
   ],
   "source": [
    "len(groups.keys())"
   ]
  },
  {
   "cell_type": "code",
   "execution_count": 4,
   "metadata": {},
   "outputs": [
    {
     "name": "stdout",
     "output_type": "stream",
     "text": [
      "        Plate ID State Vehicle Color\n",
      "3780362  GEL1905    NY          BLUE\n",
      "3819284  GEL1905    NY             G\n",
      "4483970  GEL1905    NY          GRAY\n",
      "4483975  GEL1905    NY          GRAY\n",
      "\n",
      "\n",
      "        Plate ID State Vehicle Color\n",
      "5699758  11JT165    AL         WHITE\n",
      "8394987  11JT165    AL          BLUE\n",
      "\n",
      "\n",
      "       Plate ID State Vehicle Color\n",
      "284155  GGF4261    NY           SIL\n",
      "321441  GGF4261    NY          GRAY\n",
      "667157  GGF4261    NY          GRAY\n",
      "704459  GGF4261    NY        SILVER\n",
      "\n",
      "\n",
      "        Plate ID State Vehicle Color\n",
      "1941732  FZY8582    NY          BLUE\n",
      "2712519  FZY8582    NY            BL\n",
      "3345735  FZY8582    NY            BL\n",
      "3400502  FZY8582    NY            BL\n",
      "3449810  FZY8582    NY          BLUE\n",
      "5553833  FZY8582    NY            BL\n",
      "7817526  FZY8582    NY            BL\n",
      "\n",
      "\n",
      "        Plate ID State Vehicle Color\n",
      "174342   FWF4823    NY            BL\n",
      "477162   FWF4823    NY            BL\n",
      "990484   FWF4823    NY            BL\n",
      "4793485  FWF4823    NY            BL\n",
      "5256268  FWF4823    NY          BLUE\n",
      "6327606  FWF4823    NY          BLUE\n",
      "7423856  FWF4823    NY          BLUE\n",
      "\n",
      "\n",
      "        Plate ID State Vehicle Color\n",
      "3685091  GJS2376    NY          GRAY\n",
      "4257424  GJS2376    NY           TAN\n",
      "6749496  GJS2376    NY           TAN\n",
      "\n",
      "\n",
      "        Plate ID State Vehicle Color\n",
      "843553   DLY8648    NY            BL\n",
      "1503163  DLY8648    NY            BL\n",
      "7709675  DLY8648    NY            BL\n",
      "8652000  DLY8648    NY          BLUE\n",
      "\n",
      "\n",
      "        Plate ID State Vehicle Color\n",
      "640798   S426877    IL          GRAY\n",
      "2443771  S426877    IL         OTHER\n",
      "4444514  S426877    IL        SILVER\n",
      "4568725  S426877    IL        SILVER\n",
      "\n",
      "\n",
      "        Plate ID State Vehicle Color\n",
      "1406122   WNJ48A    NJ         GREEN\n",
      "7648801   WNJ48A    NJ          BLUE\n",
      "8371601   WNJ48A    NJ         GREEN\n",
      "\n",
      "\n",
      "        Plate ID State Vehicle Color\n",
      "4072681   ZWF98C    NJ          GRAY\n",
      "7606812   ZWF98C    NJ        SILVER\n",
      "\n",
      "\n"
     ]
    }
   ],
   "source": [
    "# Show examples for vehicles that still occur in the dataset with\n",
    "# different colors.\n",
    "\n",
    "for key in list(groups.keys())[:10]:\n",
    "    print(groups.get(key))\n",
    "    print('\\n')"
   ]
  },
  {
   "cell_type": "code",
   "execution_count": 5,
   "metadata": {},
   "outputs": [],
   "source": [
    "# Resolve conflicts for groups where exactly one value from a set of\n",
    "# ground truth values (i.e., valid colors) occurs with other values\n",
    "# that are not in the ground truth set. In these cases we replace all\n",
    "# color values in the group with the value from the ground truth set.\n",
    "\n",
    "\n",
    "COLORS = {\n",
    "    'WHITE',\n",
    "    'GRAY',\n",
    "    'BLACK',\n",
    "    'RED',\n",
    "    'GREEN',\n",
    "    'BROWN',\n",
    "    'SILVER',\n",
    "    'BLUE',\n",
    "    'TAN',\n",
    "    'YELLOW',\n",
    "    'GOLD',\n",
    "    'MAROON',\n",
    "    'ORANGE',\n",
    "    'PURPLE',\n",
    "    'BEIGE',\n",
    "    'LAVENDER'\n",
    "}\n",
    "\n",
    "\n",
    "group_mapping = dict()\n",
    "\n",
    "for key in groups.keys():\n",
    "    values = groups.values(key=key, columns='Vehicle Color')\n",
    "    gt_values = [v for v in values if v in COLORS]\n",
    "    if len(gt_values) == 1:\n",
    "        group_mapping[key] = gt_values[0]"
   ]
  },
  {
   "cell_type": "code",
   "execution_count": 6,
   "metadata": {},
   "outputs": [
    {
     "name": "stdout",
     "output_type": "stream",
     "text": [
      "95432 groups in mapping.\n",
      "\n",
      "('FZY8582', 'NY') = BLUE\n",
      "('FWF4823', 'NY') = BLUE\n",
      "('DLY8648', 'NY') = BLUE\n",
      "('FZN7296', 'NY') = BLUE\n",
      "('FMA4240', 'NY') = GREEN\n",
      "('FBK8839', 'NY') = BLUE\n",
      "('FXM3011', 'NY') = BLUE\n",
      "('BRG4605', 'NY') = GRAY\n",
      "('FSJ4208', 'NY') = BLUE\n",
      "('EXR5099', 'NY') = GRAY\n",
      "...\n"
     ]
    }
   ],
   "source": [
    "print('{} groups in mapping.\\n'.format(len(group_mapping)))\n",
    "\n",
    "for key in list(group_mapping.keys())[:10]:\n",
    "    print('{} = {}'.format(key, group_mapping[key]))\n",
    "print('...')"
   ]
  },
  {
   "cell_type": "code",
   "execution_count": 7,
   "metadata": {},
   "outputs": [
    {
     "data": {
      "text/html": [
       "<div>\n",
       "<style scoped>\n",
       "    .dataframe tbody tr th:only-of-type {\n",
       "        vertical-align: middle;\n",
       "    }\n",
       "\n",
       "    .dataframe tbody tr th {\n",
       "        vertical-align: top;\n",
       "    }\n",
       "\n",
       "    .dataframe thead th {\n",
       "        text-align: right;\n",
       "    }\n",
       "</style>\n",
       "<table border=\"1\" class=\"dataframe\">\n",
       "  <thead>\n",
       "    <tr style=\"text-align: right;\">\n",
       "      <th></th>\n",
       "      <th>Plate ID</th>\n",
       "      <th>State</th>\n",
       "      <th>Vehicle Color</th>\n",
       "    </tr>\n",
       "  </thead>\n",
       "  <tbody>\n",
       "    <tr>\n",
       "      <th>141666</th>\n",
       "      <td>FMA4240</td>\n",
       "      <td>NY</td>\n",
       "      <td>BL</td>\n",
       "    </tr>\n",
       "    <tr>\n",
       "      <th>5039920</th>\n",
       "      <td>FMA4240</td>\n",
       "      <td>NY</td>\n",
       "      <td>BL</td>\n",
       "    </tr>\n",
       "    <tr>\n",
       "      <th>5699406</th>\n",
       "      <td>FMA4240</td>\n",
       "      <td>NY</td>\n",
       "      <td>GREEN</td>\n",
       "    </tr>\n",
       "  </tbody>\n",
       "</table>\n",
       "</div>"
      ],
      "text/plain": [
       "        Plate ID State Vehicle Color\n",
       "141666   FMA4240    NY            BL\n",
       "5039920  FMA4240    NY            BL\n",
       "5699406  FMA4240    NY         GREEN"
      ]
     },
     "execution_count": 7,
     "metadata": {},
     "output_type": "execute_result"
    }
   ],
   "source": [
    "# Look at one of the groups. These examples show already\n",
    "# some potential limitations of the approach, though.\n",
    "\n",
    "groups.get(('FMA4240', 'NY'))"
   ]
  },
  {
   "cell_type": "code",
   "execution_count": 8,
   "metadata": {},
   "outputs": [
    {
     "data": {
      "text/html": [
       "<div>\n",
       "<style scoped>\n",
       "    .dataframe tbody tr th:only-of-type {\n",
       "        vertical-align: middle;\n",
       "    }\n",
       "\n",
       "    .dataframe tbody tr th {\n",
       "        vertical-align: top;\n",
       "    }\n",
       "\n",
       "    .dataframe thead th {\n",
       "        text-align: right;\n",
       "    }\n",
       "</style>\n",
       "<table border=\"1\" class=\"dataframe\">\n",
       "  <thead>\n",
       "    <tr style=\"text-align: right;\">\n",
       "      <th></th>\n",
       "      <th>Plate ID</th>\n",
       "      <th>State</th>\n",
       "      <th>Vehicle Color</th>\n",
       "    </tr>\n",
       "  </thead>\n",
       "  <tbody>\n",
       "    <tr>\n",
       "      <th>1941732</th>\n",
       "      <td>FZY8582</td>\n",
       "      <td>NY</td>\n",
       "      <td>BLUE</td>\n",
       "    </tr>\n",
       "    <tr>\n",
       "      <th>2712519</th>\n",
       "      <td>FZY8582</td>\n",
       "      <td>NY</td>\n",
       "      <td>BL</td>\n",
       "    </tr>\n",
       "    <tr>\n",
       "      <th>3345735</th>\n",
       "      <td>FZY8582</td>\n",
       "      <td>NY</td>\n",
       "      <td>BL</td>\n",
       "    </tr>\n",
       "    <tr>\n",
       "      <th>3400502</th>\n",
       "      <td>FZY8582</td>\n",
       "      <td>NY</td>\n",
       "      <td>BL</td>\n",
       "    </tr>\n",
       "    <tr>\n",
       "      <th>3449810</th>\n",
       "      <td>FZY8582</td>\n",
       "      <td>NY</td>\n",
       "      <td>BLUE</td>\n",
       "    </tr>\n",
       "    <tr>\n",
       "      <th>5553833</th>\n",
       "      <td>FZY8582</td>\n",
       "      <td>NY</td>\n",
       "      <td>BL</td>\n",
       "    </tr>\n",
       "    <tr>\n",
       "      <th>7817526</th>\n",
       "      <td>FZY8582</td>\n",
       "      <td>NY</td>\n",
       "      <td>BL</td>\n",
       "    </tr>\n",
       "  </tbody>\n",
       "</table>\n",
       "</div>"
      ],
      "text/plain": [
       "        Plate ID State Vehicle Color\n",
       "1941732  FZY8582    NY          BLUE\n",
       "2712519  FZY8582    NY            BL\n",
       "3345735  FZY8582    NY            BL\n",
       "3400502  FZY8582    NY            BL\n",
       "3449810  FZY8582    NY          BLUE\n",
       "5553833  FZY8582    NY            BL\n",
       "7817526  FZY8582    NY            BL"
      ]
     },
     "execution_count": 8,
     "metadata": {},
     "output_type": "execute_result"
    }
   ],
   "source": [
    "groups.get(('FZY8582', 'NY'))"
   ]
  },
  {
   "cell_type": "code",
   "execution_count": 9,
   "metadata": {},
   "outputs": [
    {
     "data": {
      "text/html": [
       "<div>\n",
       "<style scoped>\n",
       "    .dataframe tbody tr th:only-of-type {\n",
       "        vertical-align: middle;\n",
       "    }\n",
       "\n",
       "    .dataframe tbody tr th {\n",
       "        vertical-align: top;\n",
       "    }\n",
       "\n",
       "    .dataframe thead th {\n",
       "        text-align: right;\n",
       "    }\n",
       "</style>\n",
       "<table border=\"1\" class=\"dataframe\">\n",
       "  <thead>\n",
       "    <tr style=\"text-align: right;\">\n",
       "      <th></th>\n",
       "      <th>Plate ID</th>\n",
       "      <th>State</th>\n",
       "      <th>Vehicle Color</th>\n",
       "    </tr>\n",
       "  </thead>\n",
       "  <tbody>\n",
       "    <tr>\n",
       "      <th>654630</th>\n",
       "      <td>EXR5099</td>\n",
       "      <td>NY</td>\n",
       "      <td>BL</td>\n",
       "    </tr>\n",
       "    <tr>\n",
       "      <th>7584957</th>\n",
       "      <td>EXR5099</td>\n",
       "      <td>NY</td>\n",
       "      <td>GRAY</td>\n",
       "    </tr>\n",
       "  </tbody>\n",
       "</table>\n",
       "</div>"
      ],
      "text/plain": [
       "        Plate ID State Vehicle Color\n",
       "654630   EXR5099    NY            BL\n",
       "7584957  EXR5099    NY          GRAY"
      ]
     },
     "execution_count": 9,
     "metadata": {},
     "output_type": "execute_result"
    }
   ],
   "source": [
    "groups.get(('EXR5099', 'NY'))"
   ]
  },
  {
   "cell_type": "code",
   "execution_count": 10,
   "metadata": {},
   "outputs": [
    {
     "name": "stdout",
     "output_type": "stream",
     "text": [
      "Update time 843.5912 sec.\n"
     ]
    }
   ],
   "source": [
    "# Apply update operation on current dataset snapshot in a first\n",
    "# iteration for standardizing color values.\n",
    "\n",
    "import time\n",
    "\n",
    "from openclean.function.eval.base import Col\n",
    "from openclean.function.eval.mapping import Lookup\n",
    "from openclean.operator.transform.update import Update\n",
    "\n",
    "start_update = time.perf_counter()\n",
    "\n",
    "func = Lookup(columns=['Plate ID', 'State'], mapping=group_mapping, default=Col('Vehicle Color'))\n",
    "db.apply(name='vehicle_data', operations=Update('Vehicle Color', func=func))\n",
    "\n",
    "end_update = time.perf_counter()\n",
    "\n",
    "print('Update time {:0.4f} sec.'.format(end_update - start_update))"
   ]
  },
  {
   "cell_type": "code",
   "execution_count": 11,
   "metadata": {},
   "outputs": [],
   "source": [
    "# Get updated list of distinct colors and their frequency\n",
    "# in the Vehicle Color column of the latest dataset snapshot.\n",
    "\n",
    "colors = db.stream('vehicle_data').distinct('Vehicle Color')"
   ]
  },
  {
   "cell_type": "code",
   "execution_count": 12,
   "metadata": {},
   "outputs": [
    {
     "data": {
      "text/plain": [
       "2109"
      ]
     },
     "execution_count": 12,
     "metadata": {},
     "output_type": "execute_result"
    }
   ],
   "source": [
    "len(colors)"
   ]
  },
  {
   "cell_type": "code",
   "execution_count": 14,
   "metadata": {},
   "outputs": [
    {
     "data": {
      "text/plain": [
       "[('WHITE', 2605597),\n",
       " ('GRAY', 1748009),\n",
       " ('BLACK', 1697283),\n",
       " ('RED', 545345),\n",
       " ('BLUE', 437059),\n",
       " ('GREEN', 371324),\n",
       " ('BROWN', 362548),\n",
       " ('SILVER', 327988),\n",
       " ('BL', 276686),\n",
       " ('TAN', 205121),\n",
       " ('YELLOW', 116515),\n",
       " ('GOLD', 107407),\n",
       " ('OTHER', 59468),\n",
       " ('MAROON', 33813),\n",
       " ('ORANGE', 24557),\n",
       " ('LTG', 8903),\n",
       " ('PURPLE', 8476),\n",
       " ('LT/', 4974),\n",
       " ('SL', 4969),\n",
       " ('SIL', 3969),\n",
       " ('DK/', 3814),\n",
       " ('DKG', 3645),\n",
       " ('PR', 3360),\n",
       " ('DKB', 1800),\n",
       " ('BEIGE', 1613)]"
      ]
     },
     "execution_count": 14,
     "metadata": {},
     "output_type": "execute_result"
    }
   ],
   "source": [
    "colors.most_common(25)"
   ]
  }
 ],
 "metadata": {
  "kernelspec": {
   "display_name": "Python 3",
   "language": "python",
   "name": "python3"
  },
  "language_info": {
   "codemirror_mode": {
    "name": "ipython",
    "version": 3
   },
   "file_extension": ".py",
   "mimetype": "text/x-python",
   "name": "python",
   "nbconvert_exporter": "python",
   "pygments_lexer": "ipython3",
   "version": "3.9.4"
  }
 },
 "nbformat": 4,
 "nbformat_minor": 4
}
